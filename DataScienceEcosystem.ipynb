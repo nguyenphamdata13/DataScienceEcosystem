{
 "cells": [
  {
   "cell_type": "markdown",
   "id": "4f61b05a",
   "metadata": {},
   "source": [
    "# Data Science Tools and Ecosystem"
   ]
  },
  {
   "cell_type": "markdown",
   "id": "c1c8a4d6",
   "metadata": {},
   "source": [
    "**In this notebook, Data Science Tools and Ecosystem are summarized.**\n"
   ]
  },
  {
   "cell_type": "markdown",
   "id": "a90e3eb6",
   "metadata": {},
   "source": [
    "**Objectives:**\n",
    "- List popular languages for Data Science\n",
    "- List common libraries used by Data Scientists\n",
    "- Create a one-column table in a Markdown cell\n",
    "- Apply  arithmetic expressions in code cell\n"
   ]
  },
  {
   "cell_type": "markdown",
   "id": "7747ba57",
   "metadata": {},
   "source": [
    "Some of the popular languages that Data Scientists use are:\n",
    "1. Python\n",
    "2. R\n",
    "3. Julia\n",
    "4. SQL (Structured Query Language)\n",
    "5. Java"
   ]
  },
  {
   "cell_type": "markdown",
   "id": "7b501d1d",
   "metadata": {},
   "source": [
    "Some of the commonly used libraries used by Data Scientists include:\n",
    "1. NumPy (Python)\n",
    "2. Pandas (Python)\n",
    "3. Matplotlib (Python)\n",
    "4. Seaborn (Python)\n",
    "5. SciPy (Python)\n",
    "6. ggplot2 (R)\n"
   ]
  },
  {
   "cell_type": "markdown",
   "id": "2eda2e99",
   "metadata": {},
   "source": [
    "|Data Science Tools |\n",
    "|-------------------|\n",
    "|Jupyter Notebooks  |\n",
    "|RStudio            |\n",
    "|Google Colaboratory|\n"
   ]
  },
  {
   "cell_type": "markdown",
   "id": "39a1b17d",
   "metadata": {},
   "source": [
    "### Below are a few examples of evaluating arithmetic expressions in Python.\n",
    "***1. Addition:*** 5+3\n",
    "\n",
    "***2. Multiplication:*** 6*5\n",
    "\n",
    "***3. Division:*** 15/5\n",
    "\n"
   ]
  },
  {
   "cell_type": "code",
   "execution_count": 4,
   "id": "879d593c",
   "metadata": {},
   "outputs": [
    {
     "data": {
      "text/plain": [
       "17"
      ]
     },
     "execution_count": 4,
     "metadata": {},
     "output_type": "execute_result"
    }
   ],
   "source": [
    "(3*4)+5\n",
    "# This a simple arithmetic expression to mutiply then add integers"
   ]
  },
  {
   "cell_type": "code",
   "execution_count": 5,
   "id": "6506fda6",
   "metadata": {},
   "outputs": [
    {
     "name": "stdout",
     "output_type": "stream",
     "text": [
      "200 minutes is equal to 3.33 hours\n"
     ]
    }
   ],
   "source": [
    "minutes = 200\n",
    "hours = minutes / 60\n",
    "rounded_hours = round(hours, 2)  \n",
    "\n",
    "print(f\"{minutes} minutes is equal to {rounded_hours} hours\")\n",
    "#This will convert 200 minutes to hours by diving by 60"
   ]
  },
  {
   "cell_type": "markdown",
   "id": "6d990432",
   "metadata": {},
   "source": [
    "## Author\n",
    "Pham Phu Nguyen"
   ]
  },
  {
   "cell_type": "code",
   "execution_count": null,
   "id": "03ce8891",
   "metadata": {},
   "outputs": [],
   "source": []
  }
 ],
 "metadata": {
  "kernelspec": {
   "display_name": "Python 3 (ipykernel)",
   "language": "python",
   "name": "python3"
  },
  "language_info": {
   "codemirror_mode": {
    "name": "ipython",
    "version": 3
   },
   "file_extension": ".py",
   "mimetype": "text/x-python",
   "name": "python",
   "nbconvert_exporter": "python",
   "pygments_lexer": "ipython3",
   "version": "3.11.5"
  }
 },
 "nbformat": 4,
 "nbformat_minor": 5
}
